{
 "cells": [
  {
   "cell_type": "markdown",
   "id": "7c3b55a7-590e-4dc8-b601-ea4f3ca6611c",
   "metadata": {},
   "source": [
    "Imports"
   ]
  },
  {
   "cell_type": "code",
   "execution_count": 282,
   "id": "24a761f2-9d83-493c-9ec8-b98a8d1b7316",
   "metadata": {},
   "outputs": [],
   "source": [
    "import torch\n",
    "import torchvision.transforms as transforms\n",
    "import torchvision\n",
    "import torch.nn as nn\n",
    "import torchvision.models as models\n",
    "import torch.optim as optim\n",
    "import copy\n",
    "import torch.nn.functional as F\n",
    "import numpy as np\n",
    "import matplotlib.pyplot as plt"
   ]
  },
  {
   "cell_type": "markdown",
   "id": "ca5a6c38-809e-4ed9-847b-b8c45def0528",
   "metadata": {},
   "source": [
    "Module"
   ]
  },
  {
   "cell_type": "code",
   "execution_count": 3,
   "id": "9e3846f9-4027-455e-abf1-16b822f8a273",
   "metadata": {},
   "outputs": [],
   "source": [
    "class Net(nn.Module):\n",
    "    def __init__(self):\n",
    "        super(Net, self).__init__()\n",
    "        self.conv1 = nn.Conv2d(3, 6, 5)\n",
    "        self.pool = nn.MaxPool2d(2, 2)\n",
    "        self.conv2 = nn.Conv2d(6, 16, 5)\n",
    "        self.fc1 = nn.Linear(16 * 5 * 5, 80)\n",
    "        self.fc2 = nn.Linear(80, 10)\n",
    "\n",
    "    def forward(self, x):\n",
    "        # Implement the forward function in the network\n",
    "        x1 = F.relu(self.conv1(x))\n",
    "        x2 = self.pool(x1)\n",
    "        x3 = F.relu(self.conv2(x2))\n",
    "        x4 = self.pool(x3)\n",
    "        x5 = torch.flatten(x4,1)\n",
    "        x6 = self.fc2(F.relu(self.fc1(x5)))\n",
    "        return x6"
   ]
  },
  {
   "cell_type": "markdown",
   "id": "b05d52cd-0eef-4ae0-b301-3806adaa03c6",
   "metadata": {},
   "source": [
    "Training and Validation"
   ]
  },
  {
   "cell_type": "code",
   "execution_count": 4,
   "id": "b4dc84c8-6baa-480f-bf57-1dae7a74a77a",
   "metadata": {},
   "outputs": [],
   "source": [
    "def train_model(model, criterion, optimizer, train_loader, val_loader, num_epochs, device):\n",
    "    epochs = num_epochs\n",
    "\n",
    "    best_loss = 10\n",
    "    best_model = 0\n",
    "\n",
    "    total_correct_t = 0\n",
    "    total_t = 0\n",
    "\n",
    "    total_correct_v = 0\n",
    "    total_v = 0\n",
    "\n",
    "    epoch_accuracy_training_list = []\n",
    "    epoch_accuracy_validation_list = []\n",
    "    model.train()\n",
    "    for epoch in range(epochs):\n",
    "        epoch_correct_training = 0\n",
    "        epoch_correct_validation = 0\n",
    "        total_epoch_training = 0\n",
    "        total_epoch_validation = 0\n",
    "        for batch_nr, (images, labels) in enumerate(train_loader):\n",
    "            images = images.to(device)\n",
    "            labels = labels.to(device)\n",
    "            prediction = model.forward(images)\n",
    "            guess = torch.argmax(prediction, 1)\n",
    "\n",
    "            loss = criterion(prediction, labels)\n",
    "\n",
    "            loss.backward()\n",
    "\n",
    "            optimizer.step()\n",
    "\n",
    "            optimizer.zero_grad()\n",
    "\n",
    "            total_correct_t = total_correct_t + torch.sum(guess == labels).item()\n",
    "\n",
    "            epoch_correct_training += torch.sum(guess == labels).item()\n",
    "\n",
    "            total_t = total_t + len(guess)\n",
    "            total_epoch_training += len(guess)\n",
    "\n",
    "            # Print the epoch, batch, and loss\n",
    "            print(\n",
    "                '\\rEpoch {} [{}/{}] - Loss: {}'.format(\n",
    "                    epoch + 1, batch_nr + 1, len(train_loader), loss\n",
    "                ),\n",
    "                end=''\n",
    "            )\n",
    "        accuracy_t = 100 * total_correct_t / total_t\n",
    "        epoch_accuracy_training = 100 * epoch_correct_training / total_epoch_training\n",
    "        epoch_accuracy_training_list.append(epoch_accuracy_training)\n",
    "\n",
    "        # validation set\n",
    "        model.eval()\n",
    "        with torch.no_grad():\n",
    "            for batch_nr, (images, labels) in enumerate(val_loader):\n",
    "                images = images.to(device)\n",
    "                labels = labels.to(device)\n",
    "                prediction = model.forward(images)\n",
    "        \n",
    "                guess = torch.argmax(prediction, 1)\n",
    "    \n",
    "                loss = criterion(prediction, labels)\n",
    "    \n",
    "                if loss.item() < best_loss:\n",
    "                    best_loss = loss.item()\n",
    "                    best_model = copy.deepcopy(model)\n",
    "                    best_epoch = epoch\n",
    "    \n",
    "                total_correct_v += torch.sum(guess == labels).item()\n",
    "    \n",
    "                epoch_correct_validation += torch.sum(guess == labels).item()\n",
    "    \n",
    "                total_v += len(guess)\n",
    "    \n",
    "                total_epoch_validation += len(guess)\n",
    "\n",
    "        accuracy_v = 100 * total_correct_v / total_v\n",
    "        epoch_accuracy_validation = 100 * epoch_correct_validation / total_epoch_validation\n",
    "        epoch_accuracy_validation_list.append(epoch_accuracy_validation)\n",
    "\n",
    "    print(f'Training Accuracy = {epoch_accuracy_training_list[best_epoch]:.2f}%')\n",
    "    print(f'Validation Accuracy = {epoch_accuracy_validation_list[best_epoch]:.2f}%')\n",
    "\n",
    "    # plt.plot(range(1,num_epochs+1),training_loss_epoch_avarage_list, label = \"training_loss\")\n",
    "    # plt.plot(range(1,num_epochs+1), validation_loss_epoch_avarage_list, label = \"validation_loss\")\n",
    "    # plt.legend(loc=\"upper left\")\n",
    "    return best_model"
   ]
  },
  {
   "cell_type": "markdown",
   "id": "f573bbdd-92ec-4ce2-9270-0e380c0101ce",
   "metadata": {},
   "source": [
    "Testing"
   ]
  },
  {
   "cell_type": "code",
   "execution_count": 14,
   "id": "8f262303-9f33-47a6-88f5-33e711fd218c",
   "metadata": {},
   "outputs": [],
   "source": [
    "def test_model(model, test_loader, device):\n",
    "    total_correct = 0\n",
    "    total = 0\n",
    "    with torch.no_grad():\n",
    "        for batch_nr, (images, labels) in enumerate(test_loader):\n",
    "            images = images.to(device)\n",
    "            labels = labels.to(device)\n",
    "            # Predict for each digit in the batch what class they belong to\n",
    "            prediction = model.forward(images)\n",
    "    \n",
    "            guess = torch.argmax(prediction, 1)\n",
    "    \n",
    "            total_correct = total_correct + torch.sum(guess == labels).item()\n",
    "            total = total + len(guess)\n",
    "    accuracy = 100 * total_correct / total\n",
    "    print(f'Testing Accuracy = {accuracy:.2f}%')\n",
    "    return accuracy\n"
   ]
  },
  {
   "cell_type": "markdown",
   "id": "b89fe172-0d0e-46b0-b8a3-b0ce8cbe9606",
   "metadata": {},
   "source": [
    "Data loading"
   ]
  },
  {
   "cell_type": "code",
   "execution_count": 11,
   "id": "5e3e67b6-e336-4615-a355-821685c67aeb",
   "metadata": {},
   "outputs": [],
   "source": [
    "train_set = torchvision.datasets.MNIST(root='./data',\n",
    "                                       train=True,\n",
    "                                       download=True,\n",
    "                                       transform=transforms.Compose([transforms.Grayscale(3),\n",
    "                                                                     transforms.ToTensor(),\n",
    "                                                                     transforms.Resize((32, 32))])\n",
    "                                       )\n",
    "train, validation = torch.utils.data.random_split(train_set, [0.8, 0.2])\n",
    "test_set = torchvision.datasets.MNIST(root='./data',\n",
    "                                      train=False,\n",
    "                                      download=True,\n",
    "                                      transform=transforms.Compose([transforms.Grayscale(3),\n",
    "                                                                    transforms.ToTensor(),\n",
    "                                                                    transforms.Resize((32, 32))\n",
    "                                                                    ])\n",
    "                                      )\n",
    "train_loader = torch.utils.data.DataLoader(train, batch_size=1000, shuffle=True, num_workers = 30)\n",
    "validation_loader = torch.utils.data.DataLoader(validation, batch_size=1000, shuffle=False)\n",
    "test_loader = torch.utils.data.DataLoader(test_set, batch_size=1000, shuffle=False)"
   ]
  },
  {
   "cell_type": "markdown",
   "id": "023f5938-9641-4029-bcb8-1ee3f4cf778e",
   "metadata": {},
   "source": [
    "Main"
   ]
  },
  {
   "cell_type": "code",
   "execution_count": 12,
   "id": "2608f8f8-30a0-435a-a0cf-926f267850df",
   "metadata": {},
   "outputs": [
    {
     "name": "stdout",
     "output_type": "stream",
     "text": [
      "Epoch 100 [48/48] - Loss: 0.09877923130989075Training Accuracy = 97.37%\n",
      "Validation Accuracy = 97.03%\n"
     ]
    },
    {
     "ename": "TypeError",
     "evalue": "test_model() takes 2 positional arguments but 3 were given",
     "output_type": "error",
     "traceback": [
      "\u001b[31m---------------------------------------------------------------------------\u001b[39m",
      "\u001b[31mTypeError\u001b[39m                                 Traceback (most recent call last)",
      "\u001b[36mCell\u001b[39m\u001b[36m \u001b[39m\u001b[32mIn[12]\u001b[39m\u001b[32m, line 10\u001b[39m\n\u001b[32m      7\u001b[39m trained_model = train_model(model, criterion, optimizer, train_loader, validation_loader, epochs, device)\n\u001b[32m      9\u001b[39m \u001b[38;5;66;03m# Test the model\u001b[39;00m\n\u001b[32m---> \u001b[39m\u001b[32m10\u001b[39m tested_model = \u001b[43mtest_model\u001b[49m\u001b[43m(\u001b[49m\u001b[43mtrained_model\u001b[49m\u001b[43m,\u001b[49m\u001b[43m \u001b[49m\u001b[43mtest_loader\u001b[49m\u001b[43m,\u001b[49m\u001b[43m \u001b[49m\u001b[43mdevice\u001b[49m\u001b[43m)\u001b[49m\n",
      "\u001b[31mTypeError\u001b[39m: test_model() takes 2 positional arguments but 3 were given"
     ]
    }
   ],
   "source": [
    "\n",
    "epochs = 100\n",
    "model = Net()\n",
    "device = torch.device('cuda')\n",
    "model.to(device)\n",
    "criterion = nn.CrossEntropyLoss()\n",
    "optimizer = optim.SGD(model.parameters(), lr=0.001, momentum=0.9, weight_decay=0.01)\n",
    "trained_model = train_model(model, criterion, optimizer, train_loader, validation_loader, epochs, device)\n",
    "\n",
    "# Test the model\n",
    "\n"
   ]
  },
  {
   "cell_type": "code",
   "execution_count": 274,
   "id": "28cc2eb6-2358-4e42-bcc5-418e8aacc74f",
   "metadata": {},
   "outputs": [
    {
     "name": "stdout",
     "output_type": "stream",
     "text": [
      "Testing Accuracy = 97.47%\n"
     ]
    }
   ],
   "source": [
    "tested_model = test_model(trained_model, test_loader, device)"
   ]
  },
  {
   "cell_type": "code",
   "execution_count": 286,
   "id": "8f810f3d-e55e-467a-ad56-747f44d153ec",
   "metadata": {},
   "outputs": [],
   "source": [
    "def generate_adversarial_image(image, adversarial_label, lr, n_steps, model, device, output_probs=False):\n",
    "    adversarial_label = adversarial_label.to(device)\n",
    "    original_image = image.clone().detach().to(device)\n",
    "    probs_per_step = []\n",
    "    \n",
    "    for i in range(n_steps):\n",
    "        original_image.requires_grad_(True)\n",
    "        prediction = model(original_image)\n",
    "        loss = torch.nn.functional.cross_entropy(prediction, adversarial_label)\n",
    "        derivative = torch.autograd.grad(loss, original_image)\n",
    "        original_image = original_image - torch.sign(derivative[0])*lr\n",
    "        original_image = torch.clamp(original_image, min=0, max=1)\n",
    "        \n",
    "    return original_image"
   ]
  },
  {
   "cell_type": "code",
   "execution_count": 241,
   "id": "799bde0f-4205-4a65-8a1c-a4db1c252d3f",
   "metadata": {},
   "outputs": [],
   "source": []
  },
  {
   "cell_type": "code",
   "execution_count": 276,
   "id": "4ddf46a1-6087-4815-b197-150c2b4caf1d",
   "metadata": {},
   "outputs": [],
   "source": [
    "def plot_digit(data):\n",
    "    data = data.view(32, 32)\n",
    "    plt.imshow(data, cmap=\"gray\")\n",
    "    plt.show()"
   ]
  },
  {
   "cell_type": "code",
   "execution_count": 337,
   "id": "2c04ef3b-1dfd-463e-bb28-3cc7670ecb08",
   "metadata": {},
   "outputs": [
    {
     "data": {
      "image/png": "[encoded data removed]",
      "text/plain": [
       "<Figure size 640x480 with 1 Axes>"
      ]
     },
     "metadata": {},
     "output_type": "display_data"
    },
    {
     "name": "stdout",
     "output_type": "stream",
     "text": [
      "tensor([9], device='cuda:0')\n",
      "tensor([[ True,  True,  True,  ...,  True,  True,  True],\n",
      "        [ True,  True,  True,  ...,  True,  True,  True],\n",
      "        [False,  True,  True,  ..., False, False, False],\n",
      "        ...,\n",
      "        [False, False, False,  ...,  True, False,  True],\n",
      "        [False,  True,  True,  ..., False,  True,  True],\n",
      "        [False, False,  True,  ...,  True,  True,  True]], device='cuda:0')\n"
     ]
    }
   ],
   "source": [
    "images, labels = next(iter(test_loader))\n",
    "index_of_4s = []\n",
    "for i in range(len(labels)):\n",
    "    if labels[i] == 4:\n",
    "        index_of_4s.append(i)\n",
    "rand_index = np.random.randint(0, len(index_of_4s))\n",
    "image_norm = images[index_of_4s[rand_index]]\n",
    "image_norm = image_norm[None, :, :, :]\n",
    "label_adv = torch.tensor([9], device=device)\n",
    "image = generate_adversarial_image(image_norm, label_adv, lr=0.01, n_steps=20, model = trained_model, device=device).cpu()\n",
    "image_new = image.detach()\n",
    "\n",
    "plot_digit(image_new[0][0])\n",
    "image_new = image_new.to(device)\n",
    "image_norm = image_norm.to(device)\n",
    "print(torch.max(F.softmax(model(image_new), dim=1),dim=1)[1])\n",
    "print(image_new[0][0] == image_norm[0][0])"
   ]
  },
  {
   "cell_type": "code",
   "execution_count": 303,
   "id": "2fff668f-dc69-4f06-88b5-677789e178c5",
   "metadata": {},
   "outputs": [
    {
     "name": "stdout",
     "output_type": "stream",
     "text": [
      "torch.Size([1, 3, 32, 32])\n"
     ]
    }
   ],
   "source": [
    "print(image_norm.size())"
   ]
  },
  {
   "cell_type": "code",
   "execution_count": 332,
   "id": "286e897c-189d-4ff5-8727-86a1e98f6f9d",
   "metadata": {},
   "outputs": [
    {
     "data": {
      "image/png": "[encoded data removed]",
      "text/plain": [
       "<Figure size 640x480 with 1 Axes>"
      ]
     },
     "metadata": {},
     "output_type": "display_data"
    },
    {
     "name": "stdout",
     "output_type": "stream",
     "text": [
      "tensor([9], device='cuda:0')\n",
      "tensor([[ True, False, False,  ..., False, False, False],\n",
      "        [False, False, False,  ..., False, False, False],\n",
      "        [False, False, False,  ..., False, False, False],\n",
      "        ...,\n",
      "        [False, False, False,  ..., False, False, False],\n",
      "        [False, False, False,  ..., False, False, False],\n",
      "        [False, False, False,  ..., False, False, False]], device='cuda:0')\n"
     ]
    }
   ],
   "source": [
    "random_noise_image = torch.rand(3, 32, 32)\n",
    "random_noise_image = random_noise_image[None, : , : ,:]\n",
    "label_adv = torch.tensor([9], device=device)\n",
    "image = generate_adversarial_image(random_noise_image, label_adv, lr=0.01, n_steps=20, model = trained_model, device=device).cpu()\n",
    "image_new = image.detach()\n",
    "plot_digit(image_new[0][0])\n",
    "image_new = image_new.to(device)\n",
    "image_norm = image_norm.to(device)\n",
    "print(torch.max(F.softmax(model(image_new), dim=1),dim=1)[1])\n",
    "print(image_new[0][0] == image_norm[0][0])"
   ]
  },
  {
   "cell_type": "code",
   "execution_count": null,
   "id": "fbaab7e4-1035-4f5b-b888-b0ec7fafc56f",
   "metadata": {},
   "outputs": [],
   "source": []
  },
  {
   "cell_type": "code",
   "execution_count": null,
   "id": "dc7e1428-89c9-4640-8803-3f6de98a69e5",
   "metadata": {},
   "outputs": [],
   "source": []
  }
 ],
 "metadata": {
  "kernelspec": {
   "display_name": "Python 3 (ipykernel)",
   "language": "python",
   "name": "python3"
  },
  "language_info": {
   "codemirror_mode": {
    "name": "ipython",
    "version": 3
   },
   "file_extension": ".py",
   "mimetype": "text/x-python",
   "name": "python",
   "nbconvert_exporter": "python",
   "pygments_lexer": "ipython3",
   "version": "3.11.11"
  }
 },
 "nbformat": 4,
 "nbformat_minor": 5
}
